{
 "cells": [
  {
   "cell_type": "code",
   "execution_count": 141,
   "metadata": {},
   "outputs": [
    {
     "name": "stdout",
     "output_type": "stream",
     "text": [
      "<class 'pandas.core.frame.DataFrame'>\n",
      "RangeIndex: 96 entries, 0 to 95\n",
      "Data columns (total 4 columns):\n",
      " #   Column                            Non-Null Count  Dtype  \n",
      "---  ------                            --------------  -----  \n",
      " 0   Country                           96 non-null     object \n",
      " 1   Year                              96 non-null     int64  \n",
      " 2   Life expectancy at birth (years)  96 non-null     float64\n",
      " 3   GDP                               96 non-null     float64\n",
      "dtypes: float64(2), int64(1), object(1)\n",
      "memory usage: 3.1+ KB\n",
      "None\n",
      "       Life expectancy at birth (years)           GDP\n",
      "count                         96.000000  9.600000e+01\n",
      "mean                          72.789583  3.880499e+12\n",
      "std                           10.672882  5.197561e+12\n",
      "min                           44.300000  4.415703e+09\n",
      "25%                           74.475000  1.733018e+11\n",
      "50%                           76.750000  1.280220e+12\n",
      "75%                           78.900000  4.067510e+12\n",
      "max                           81.000000  1.810000e+13\n",
      "\n",
      "####################################################################################################\n",
      "                          count          mean           std           min  \\\n",
      "Country                                                                     \n",
      "Chile                      16.0  1.697888e+11  7.687884e+10  6.973681e+10   \n",
      "China                      16.0  4.957714e+12  3.501096e+12  1.211350e+12   \n",
      "Germany                    16.0  3.094776e+12  6.674862e+11  1.949950e+12   \n",
      "Mexico                     16.0  9.766506e+11  2.095716e+11  6.836480e+11   \n",
      "United States of America   16.0  1.407500e+13  2.432694e+12  1.030000e+13   \n",
      "Zimbabwe                   16.0  9.062580e+09  4.298310e+09  4.415703e+09   \n",
      "\n",
      "                                   25%           50%           75%  \\\n",
      "Country                                                              \n",
      "Chile                     9.387303e+10  1.729975e+11  2.449515e+11   \n",
      "China                     1.881585e+12  4.075195e+12  7.819550e+12   \n",
      "Germany                   2.740870e+12  3.396350e+12  3.596078e+12   \n",
      "Mexico                    7.630910e+11  1.004376e+12  1.156992e+12   \n",
      "United States of America  1.210000e+13  1.445000e+13  1.567500e+13   \n",
      "Zimbabwe                  5.748309e+09  6.733671e+09  1.263446e+10   \n",
      "\n",
      "                                   max  \n",
      "Country                                 \n",
      "Chile                     2.783840e+11  \n",
      "China                     1.106470e+13  \n",
      "Germany                   3.890610e+12  \n",
      "Mexico                    1.298460e+12  \n",
      "United States of America  1.810000e+13  \n",
      "Zimbabwe                  1.630467e+10  \n"
     ]
    }
   ],
   "source": [
    "import numpy as np\n",
    "import pandas as pd\n",
    "import matplotlib.pyplot as plt\n",
    "import seaborn as sns\n",
    "\n",
    "# Read data into notebook from .csv\n",
    "data = pd.read_csv('all_data.csv')\n",
    "\n",
    "# Dimensions of dataframe\n",
    "print(data.info())\n",
    "\n",
    "# Convert Year to category\n",
    "data['Year'] = data['Year'].astype('category')\n",
    "\n",
    "print(data.describe())\n",
    "\n",
    "print('','#'*100, sep='\\n')\n",
    "\n",
    "print(data.groupby('Country').describe()['GDP'])\n"
   ]
  },
  {
   "cell_type": "code",
   "execution_count": null,
   "metadata": {},
   "outputs": [],
   "source": []
  }
 ],
 "metadata": {
  "kernelspec": {
   "display_name": "Python [conda env:base] *",
   "language": "python",
   "name": "conda-base-py"
  },
  "language_info": {
   "codemirror_mode": {
    "name": "ipython",
    "version": 3
   },
   "file_extension": ".py",
   "mimetype": "text/x-python",
   "name": "python",
   "nbconvert_exporter": "python",
   "pygments_lexer": "ipython3",
   "version": "3.12.7"
  }
 },
 "nbformat": 4,
 "nbformat_minor": 4
}
